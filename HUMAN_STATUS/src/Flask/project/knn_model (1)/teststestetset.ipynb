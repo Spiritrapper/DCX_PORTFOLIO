{
 "cells": [
  {
   "cell_type": "code",
   "execution_count": 6,
   "id": "552d5879",
   "metadata": {
    "scrolled": true
   },
   "outputs": [
    {
     "name": "stdout",
     "output_type": "stream",
     "text": [
      "Requirement already satisfied: imutils in c:\\users\\smhrd\\anaconda3\\lib\\site-packages (0.5.4)\n"
     ]
    },
    {
     "name": "stderr",
     "output_type": "stream",
     "text": [
      "WARNING: Ignoring invalid distribution -rotobuf (c:\\users\\smhrd\\anaconda3\\lib\\site-packages)\n",
      "WARNING: Ignoring invalid distribution -rotobuf (c:\\users\\smhrd\\anaconda3\\lib\\site-packages)\n",
      "WARNING: Ignoring invalid distribution -rotobuf (c:\\users\\smhrd\\anaconda3\\lib\\site-packages)\n",
      "WARNING: Ignoring invalid distribution -rotobuf (c:\\users\\smhrd\\anaconda3\\lib\\site-packages)\n",
      "WARNING: Ignoring invalid distribution -rotobuf (c:\\users\\smhrd\\anaconda3\\lib\\site-packages)\n",
      "WARNING: Ignoring invalid distribution -rotobuf (c:\\users\\smhrd\\anaconda3\\lib\\site-packages)\n"
     ]
    },
    {
     "name": "stdout",
     "output_type": "stream",
     "text": [
      "Requirement already satisfied: imutils in c:\\users\\smhrd\\anaconda3\\lib\\site-packages (0.5.4)\n"
     ]
    },
    {
     "name": "stderr",
     "output_type": "stream",
     "text": [
      "WARNING: Ignoring invalid distribution -rotobuf (c:\\users\\smhrd\\anaconda3\\lib\\site-packages)\n",
      "WARNING: Ignoring invalid distribution -rotobuf (c:\\users\\smhrd\\anaconda3\\lib\\site-packages)\n",
      "WARNING: Ignoring invalid distribution -rotobuf (c:\\users\\smhrd\\anaconda3\\lib\\site-packages)\n",
      "WARNING: Ignoring invalid distribution -rotobuf (c:\\users\\smhrd\\anaconda3\\lib\\site-packages)\n",
      "WARNING: Ignoring invalid distribution -rotobuf (c:\\users\\smhrd\\anaconda3\\lib\\site-packages)\n",
      "WARNING: Ignoring invalid distribution -rotobuf (c:\\users\\smhrd\\anaconda3\\lib\\site-packages)\n"
     ]
    },
    {
     "name": "stdout",
     "output_type": "stream",
     "text": [
      "Requirement already satisfied: dlib in c:\\users\\smhrd\\anaconda3\\lib\\site-packages (19.24.2)\n"
     ]
    },
    {
     "name": "stderr",
     "output_type": "stream",
     "text": [
      "WARNING: Ignoring invalid distribution -rotobuf (c:\\users\\smhrd\\anaconda3\\lib\\site-packages)\n",
      "WARNING: Ignoring invalid distribution -rotobuf (c:\\users\\smhrd\\anaconda3\\lib\\site-packages)\n",
      "WARNING: Ignoring invalid distribution -rotobuf (c:\\users\\smhrd\\anaconda3\\lib\\site-packages)\n",
      "WARNING: Ignoring invalid distribution -rotobuf (c:\\users\\smhrd\\anaconda3\\lib\\site-packages)\n",
      "WARNING: Ignoring invalid distribution -rotobuf (c:\\users\\smhrd\\anaconda3\\lib\\site-packages)\n",
      "WARNING: Ignoring invalid distribution -rotobuf (c:\\users\\smhrd\\anaconda3\\lib\\site-packages)\n"
     ]
    },
    {
     "name": "stdout",
     "output_type": "stream",
     "text": [
      "Requirement already satisfied: pygame in c:\\users\\smhrd\\anaconda3\\lib\\site-packages (2.5.2)\n"
     ]
    },
    {
     "name": "stderr",
     "output_type": "stream",
     "text": [
      "WARNING: Ignoring invalid distribution -rotobuf (c:\\users\\smhrd\\anaconda3\\lib\\site-packages)\n",
      "WARNING: Ignoring invalid distribution -rotobuf (c:\\users\\smhrd\\anaconda3\\lib\\site-packages)\n",
      "WARNING: Ignoring invalid distribution -rotobuf (c:\\users\\smhrd\\anaconda3\\lib\\site-packages)\n",
      "WARNING: Ignoring invalid distribution -rotobuf (c:\\users\\smhrd\\anaconda3\\lib\\site-packages)\n",
      "WARNING: Ignoring invalid distribution -rotobuf (c:\\users\\smhrd\\anaconda3\\lib\\site-packages)\n",
      "WARNING: Ignoring invalid distribution -rotobuf (c:\\users\\smhrd\\anaconda3\\lib\\site-packages)\n"
     ]
    }
   ],
   "source": [
    "!pip install imutils\n",
    "!pip install imutils\n",
    "!pip install dlib\n",
    "!pip install pygame"
   ]
  },
  {
   "cell_type": "code",
   "execution_count": 2,
   "id": "e70229a3",
   "metadata": {},
   "outputs": [],
   "source": [
    "import numpy as np\n",
    "import imutils\n",
    "import time\n",
    "import timeit\n",
    "import dlib\n",
    "import cv2\n",
    "import matplotlib.pyplot as plt\n",
    "from scipy.spatial import distance as dist\n",
    "from imutils.video import VideoStream\n",
    "from imutils import face_utils\n",
    "from threading import Thread\n",
    "from threading import Timer"
   ]
  },
  {
   "cell_type": "code",
   "execution_count": 4,
   "id": "711e0cca",
   "metadata": {},
   "outputs": [],
   "source": [
    "import time\n",
    "\n",
    "def check_fps(prev_time) :\n",
    "    cur_time = time.time() #Import the current time in seconds\n",
    "    one_loop_time = cur_time - prev_time\n",
    "    prev_time = cur_time\n",
    "    fps = 1/one_loop_time\n",
    "    return prev_time, fps"
   ]
  },
  {
   "cell_type": "code",
   "execution_count": 5,
   "id": "f12a2384",
   "metadata": {},
   "outputs": [],
   "source": [
    "def check_fps(prev_time) :\n",
    "    cur_time = time.time() #Import the current time in seconds\n",
    "    one_loop_time = cur_time - prev_time\n",
    "    prev_time = cur_time\n",
    "    fps = 1/one_loop_time\n",
    "    return prev_time, fps\n",
    "def light_removing(frame) :\n",
    "    gray = cv2.cvtColor(frame, cv2.COLOR_BGR2GRAY)\n",
    "    lab = cv2.cvtColor(frame, cv2.COLOR_BGR2LAB)\n",
    "    L = lab[:,:,0]\n",
    "    med_L = cv2.medianBlur(L,99) #median filter\n",
    "    invert_L = cv2.bitwise_not(med_L) #invert lightness\n",
    "    composed = cv2.addWeighted(gray, 0.75, invert_L, 0.25, 0)\n",
    "    return L, composed\n",
    "\n"
   ]
  },
  {
   "cell_type": "code",
   "execution_count": 6,
   "id": "a72c5775",
   "metadata": {},
   "outputs": [
    {
     "data": {
      "text/plain": [
       "< cv2.ml.KNearest 000001CD99982770>"
      ]
     },
     "execution_count": 6,
     "metadata": {},
     "output_type": "execute_result"
    }
   ],
   "source": [
    "knn = cv2.ml.KNearest_create()\n",
    "knn.load('knn_model.xml')  # Load the model"
   ]
  },
  {
   "cell_type": "code",
   "execution_count": 9,
   "id": "f2a1deed",
   "metadata": {},
   "outputs": [],
   "source": [
    "import mysql.connector\n",
    "import sqlite3\n",
    "import datetime\n",
    "import time\n",
    "import mysql.connector\n",
    "from datetime import datetime"
   ]
  },
  {
   "cell_type": "code",
   "execution_count": 11,
   "id": "2f63bc46",
   "metadata": {},
   "outputs": [
    {
     "name": "stdout",
     "output_type": "stream",
     "text": [
      "loading facial landmark predictor...\n"
     ]
    },
    {
     "ename": "RuntimeError",
     "evalue": "Unable to open shape_predictor_68_face_landmarks.dat",
     "output_type": "error",
     "traceback": [
      "\u001b[1;31m---------------------------------------------------------------------------\u001b[0m",
      "\u001b[1;31mRuntimeError\u001b[0m                              Traceback (most recent call last)",
      "Cell \u001b[1;32mIn[11], line 65\u001b[0m\n\u001b[0;32m     63\u001b[0m \u001b[38;5;28mprint\u001b[39m(\u001b[38;5;124m\"\u001b[39m\u001b[38;5;124mloading facial landmark predictor...\u001b[39m\u001b[38;5;124m\"\u001b[39m)\n\u001b[0;32m     64\u001b[0m detector \u001b[38;5;241m=\u001b[39m dlib\u001b[38;5;241m.\u001b[39mget_frontal_face_detector()\n\u001b[1;32m---> 65\u001b[0m predictor \u001b[38;5;241m=\u001b[39m \u001b[43mdlib\u001b[49m\u001b[38;5;241;43m.\u001b[39;49m\u001b[43mshape_predictor\u001b[49m\u001b[43m(\u001b[49m\u001b[38;5;124;43m\"\u001b[39;49m\u001b[38;5;124;43mshape_predictor_68_face_landmarks.dat\u001b[39;49m\u001b[38;5;124;43m\"\u001b[39;49m\u001b[43m)\u001b[49m\n\u001b[0;32m     66\u001b[0m (lStart, lEnd) \u001b[38;5;241m=\u001b[39m face_utils\u001b[38;5;241m.\u001b[39mFACIAL_LANDMARKS_IDXS[\u001b[38;5;124m\"\u001b[39m\u001b[38;5;124mleft_eye\u001b[39m\u001b[38;5;124m\"\u001b[39m]\n\u001b[0;32m     67\u001b[0m (rStart, rEnd) \u001b[38;5;241m=\u001b[39m face_utils\u001b[38;5;241m.\u001b[39mFACIAL_LANDMARKS_IDXS[\u001b[38;5;124m\"\u001b[39m\u001b[38;5;124mright_eye\u001b[39m\u001b[38;5;124m\"\u001b[39m]\n",
      "\u001b[1;31mRuntimeError\u001b[0m: Unable to open shape_predictor_68_face_landmarks.dat"
     ]
    }
   ],
   "source": [
    "# 졸음 2진분류 / 졸음 시간 노멀시간 싸이클로 계산\n",
    "# 데이터베이스 연결 설정\n",
    "db = mysql.connector.connect(\n",
    "    host=\"project-db-campus.smhrd.com\",\n",
    "    port=3312,\n",
    "    user=\"seocho_22K_DCX_final_2\",\n",
    "    password=\"smhrd2\",\n",
    "    database=\"seocho_22K_DCX_final_2\"\n",
    ")\n",
    "cursor = db.cursor()\n",
    "\n",
    "def eye_aspect_ratio(eye):\n",
    "    A = dist.euclidean(eye[1], eye[5])\n",
    "    B = dist.euclidean(eye[2], eye[4])\n",
    "    C = dist.euclidean(eye[0], eye[3])\n",
    "    eye = (A + B) / (2.0 * C)\n",
    "    return eye\n",
    "\n",
    "def init_open_eye():\n",
    "    time.sleep(5)\n",
    "    print(\"open init time sleep\")\n",
    "    eye_list = []\n",
    "    for i in range(7):\n",
    "        eye_list.append(both_eye)\n",
    "        time.sleep(1)\n",
    "    global OPEN_eye\n",
    "    OPEN_eye = sum(eye_list) / len(eye_list)\n",
    "    print(\"OPEN_eye =\", OPEN_eye)\n",
    "\n",
    "def init_close_eye():\n",
    "    time.sleep(2)\n",
    "    th_open.join()\n",
    "    time.sleep(5)\n",
    "    print(\"close init time sleep\")\n",
    "    eye_list = []\n",
    "    time.sleep(1)\n",
    "    for i in range(7):\n",
    "        eye_list.append(both_eye)\n",
    "        time.sleep(1)\n",
    "    CLOSE_eye = sum(eye_list) / len(eye_list)\n",
    "    global eye_THRESH\n",
    "    eye_THRESH = (((OPEN_eye - CLOSE_eye) / 2) + CLOSE_eye) \n",
    "    print(\"CLOSE_eye =\", CLOSE_eye)\n",
    "    print(\"The last eye_THRESH's value :\",eye_THRESH)\n",
    "\n",
    "OPEN_eye = 0\n",
    "eye_THRESH = 0.3\n",
    "eye_CONSEC_FRAMES = 10\n",
    "COUNTER = 0\n",
    "\n",
    "closed_eyes_time = []\n",
    "TIMER_FLAG = False\n",
    "ALARM_FLAG = False\n",
    "\n",
    "ALARM_COUNT = 0\n",
    "RUNNING_TIME = 0\n",
    "PREV_TERM = 0\n",
    "\n",
    "np.random.seed(30)\n",
    "\n",
    "test_data = []\n",
    "result_data = []\n",
    "prev_time = 0\n",
    "print(\"loading facial landmark predictor...\")\n",
    "detector = dlib.get_frontal_face_detector()\n",
    "predictor = dlib.shape_predictor(\"shape_predictor_68_face_landmarks.dat\")\n",
    "(lStart, lEnd) = face_utils.FACIAL_LANDMARKS_IDXS[\"left_eye\"]\n",
    "(rStart, rEnd) = face_utils.FACIAL_LANDMARKS_IDXS[\"right_eye\"]\n",
    "print(\"starting video stream thread...\")\n",
    "vs = VideoStream(src=0).start()\n",
    "time.sleep(1.0)\n",
    "th_open = Thread(target = init_open_eye)\n",
    "th_open.deamon = True\n",
    "th_open.start()\n",
    "th_close = Thread(target = init_close_eye)\n",
    "th_close.deamon = True\n",
    "th_close.start()\n",
    "\n",
    "start_normal = None  # 노말타임을 측정하기 위한 시작 시간 변수 추가\n",
    "\n",
    "while True:\n",
    "    frame = vs.read()\n",
    "    frame = imutils.resize(frame, width=450)\n",
    "    L, gray = lr.light_removing(frame)\n",
    "    rects = detector(gray, 0)\n",
    "    for rect in rects:\n",
    "        shape = predictor(gray, rect)\n",
    "        shape = face_utils.shape_to_np(shape)\n",
    "        leftEye = shape[lStart:lEnd]\n",
    "        rightEye = shape[rStart:rEnd]\n",
    "        leftEAR = eye_aspect_ratio(leftEye)\n",
    "        rightEAR = eye_aspect_ratio(rightEye)\n",
    "        both_eye = (leftEAR + rightEAR) * 500\n",
    "        leftEyeHull = cv2.convexHull(leftEye)\n",
    "        rightEyeHull = cv2.convexHull(rightEye)\n",
    "        cv2.drawContours(frame, [leftEyeHull], -1, (0, 255, 0), 1)\n",
    "        cv2.drawContours(frame, [rightEyeHull], -1, (0, 255, 0), 1)\n",
    "\n",
    "        if both_eye < eye_THRESH:\n",
    "            COUNTER += 1\n",
    "\n",
    "            if COUNTER >= eye_CONSEC_FRAMES:\n",
    "                if not TIMER_FLAG:\n",
    "                    start_closing = timeit.default_timer()\n",
    "                    if start_normal:  # 노말타임 측정\n",
    "                        end_normal = timeit.default_timer()\n",
    "                        normal_duration = end_normal - start_normal\n",
    "                        start_normal = None  # 노말타임 측정 초기화\n",
    "                    TIMER_FLAG = True\n",
    "                cv2.putText(frame, \"Status : Sleep\", (10, 30), cv2.FONT_HERSHEY_SIMPLEX, 0.7, (0, 0, 255), 2)\n",
    "        else:\n",
    "            if TIMER_FLAG:\n",
    "                end_closing = timeit.default_timer()\n",
    "                sleep_duration = end_closing - start_closing\n",
    "                # 5초 이상 잠잔 경우에만 DB에 잠잔 시간(초)와 노말타임(초) 저장\n",
    "                if sleep_duration >= 5 and normal_duration:\n",
    "                    query = \"INSERT INTO t_user_sleep(sleep_time, nomal_time) VALUES (%s, %s)\"\n",
    "                    val = (sleep_duration, normal_duration)\n",
    "                    cursor.execute(query, val)\n",
    "                    db.commit()\n",
    "                TIMER_FLAG = False\n",
    "                start_normal = timeit.default_timer()  # 노말타임 측정 시작\n",
    "            COUNTER = 0\n",
    "            cv2.putText(frame, \"Status : Normal\", (10, 30), cv2.FONT_HERSHEY_SIMPLEX, 0.7, (0, 255, 0), 2)\n",
    "        cv2.putText(frame, \"eye : {:.2f}\".format(both_eye), (300, 30), cv2.FONT_HERSHEY_SIMPLEX, 0.7, (200, 30, 20), 2)\n",
    "    cv2.imshow(\"Frame\", frame)\n",
    "    key = cv2.waitKey(1) & 0xFF\n",
    "    if key == ord(\"q\"):\n",
    "        break\n",
    "cv2.destroyAllWindows()\n",
    "vs.stop()\n"
   ]
  }
 ],
 "metadata": {
  "kernelspec": {
   "display_name": "Python 3 (ipykernel)",
   "language": "python",
   "name": "python3"
  },
  "language_info": {
   "codemirror_mode": {
    "name": "ipython",
    "version": 3
   },
   "file_extension": ".py",
   "mimetype": "text/x-python",
   "name": "python",
   "nbconvert_exporter": "python",
   "pygments_lexer": "ipython3",
   "version": "3.10.9"
  }
 },
 "nbformat": 4,
 "nbformat_minor": 5
}
